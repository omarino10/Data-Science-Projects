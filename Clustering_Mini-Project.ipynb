{
 "cells": [
  {
   "cell_type": "markdown",
   "metadata": {
    "id": "2qlrrukpMFoF"
   },
   "source": [
    "# Clustering - Mini-Project 3"
   ]
  },
  {
   "cell_type": "markdown",
   "metadata": {
    "id": "aFKknqf_MFoM"
   },
   "source": [
    "***Edit this cell with your name(s), tutorial number(s) and ID(s)***\n",
    "\n",
    "---\n",
    "\n",
    "Name:\n",
    "\n",
    "ID:\n",
    "\n",
    "Tutorial:\n",
    "\n",
    "---\n",
    "\n",
    "Name:\n",
    "\n",
    "ID:\n",
    "\n",
    "Tutorial:\n",
    "\n",
    "---\n",
    "\n",
    "Name:\n",
    "\n",
    "ID:\n",
    "\n",
    "Tutorial:\n",
    "\n",
    "---\n"
   ]
  },
  {
   "cell_type": "markdown",
   "metadata": {
    "id": "tkRiUWVgMFoO"
   },
   "source": [
    "## Dataset Description\n",
    "\n",
    "The dataset file contains almost ~3000 different music genres aggregated from more than 170.000 songs collected from Spotify Web API.\n",
    "\n",
    "Primary:\n",
    "\n",
    "- genre (Music genre)\n",
    "\n",
    "Numerical:\n",
    "\n",
    "- acousticness (Ranges from 0 to 1)\n",
    "- danceability (Ranges from 0 to 1)\n",
    "- energy (Ranges from 0 to 1)\n",
    "- duration_ms (Integer typically ranging from 200k to 300k)\n",
    "- instrumentalness (Ranges from 0 to 1)\n",
    "- valence (Ranges from 0 to 1)\n",
    "- popularity (Ranges from 0 to 100)\n",
    "- tempo (Float typically ranging from 50 to 150)\n",
    "- liveness (Ranges from 0 to 1)\n",
    "- loudness (Float typically ranging from -60 to 0 in decibels (dB))\n",
    "- speechiness (Ranges from 0 to 1)\n",
    "- year (Ranges from 1921 to 2020)\n",
    "\n",
    "\n",
    "Categorical:\n",
    "\n",
    "- key (All keys on octave encoded as values ranging from 0 to 11, starting on C as 0, C# as 1 and so on…)\n",
    "\n",
    "\n",
    "**Recommended Reading for Data Understanding**: Spotify's documentation of audio features: https://developer.spotify.com/documentation/web-api/reference/tracks/get-audio-features/\n",
    "\n",
    "**Acknowledgment**: This dataset was created and published by Yamaç Eren Ay on Kaggle."
   ]
  },
  {
   "cell_type": "code",
   "execution_count": 1,
   "metadata": {
    "id": "MkLEMG14MJqc"
   },
   "outputs": [],
   "source": [
    "import pandas as pd\n",
    "import numpy as np\n",
    "import matplotlib.pyplot as plt\n",
    "import seaborn as sns\n",
    "\n",
    "%matplotlib inline\n",
    "plt.style.use('fivethirtyeight')\n",
    "sns.set_style('whitegrid')"
   ]
  },
  {
   "cell_type": "code",
   "execution_count": 2,
   "metadata": {
    "colab": {
     "base_uri": "https://localhost:8080/",
     "height": 322
    },
    "id": "iPb8IgjoMLXT",
    "outputId": "f1268860-1629-4722-ae8d-55fbec526bf8"
   },
   "outputs": [
    {
     "data": {
      "text/html": [
       "<div>\n",
       "<style scoped>\n",
       "    .dataframe tbody tr th:only-of-type {\n",
       "        vertical-align: middle;\n",
       "    }\n",
       "\n",
       "    .dataframe tbody tr th {\n",
       "        vertical-align: top;\n",
       "    }\n",
       "\n",
       "    .dataframe thead th {\n",
       "        text-align: right;\n",
       "    }\n",
       "</style>\n",
       "<table border=\"1\" class=\"dataframe\">\n",
       "  <thead>\n",
       "    <tr style=\"text-align: right;\">\n",
       "      <th></th>\n",
       "      <th>mode</th>\n",
       "      <th>genres</th>\n",
       "      <th>acousticness</th>\n",
       "      <th>danceability</th>\n",
       "      <th>duration_ms</th>\n",
       "      <th>energy</th>\n",
       "      <th>instrumentalness</th>\n",
       "      <th>liveness</th>\n",
       "      <th>loudness</th>\n",
       "      <th>speechiness</th>\n",
       "      <th>tempo</th>\n",
       "      <th>valence</th>\n",
       "      <th>popularity</th>\n",
       "      <th>key</th>\n",
       "    </tr>\n",
       "  </thead>\n",
       "  <tbody>\n",
       "    <tr>\n",
       "      <th>0</th>\n",
       "      <td>1</td>\n",
       "      <td>21st century classical</td>\n",
       "      <td>0.979333</td>\n",
       "      <td>0.162883</td>\n",
       "      <td>1.602977e+05</td>\n",
       "      <td>0.071317</td>\n",
       "      <td>0.606834</td>\n",
       "      <td>0.361600</td>\n",
       "      <td>-31.514333</td>\n",
       "      <td>0.040567</td>\n",
       "      <td>75.336500</td>\n",
       "      <td>0.103783</td>\n",
       "      <td>27.833333</td>\n",
       "      <td>6</td>\n",
       "    </tr>\n",
       "    <tr>\n",
       "      <th>1</th>\n",
       "      <td>1</td>\n",
       "      <td>432hz</td>\n",
       "      <td>0.494780</td>\n",
       "      <td>0.299333</td>\n",
       "      <td>1.048887e+06</td>\n",
       "      <td>0.450678</td>\n",
       "      <td>0.477762</td>\n",
       "      <td>0.131000</td>\n",
       "      <td>-16.854000</td>\n",
       "      <td>0.076817</td>\n",
       "      <td>120.285667</td>\n",
       "      <td>0.221750</td>\n",
       "      <td>52.500000</td>\n",
       "      <td>5</td>\n",
       "    </tr>\n",
       "    <tr>\n",
       "      <th>2</th>\n",
       "      <td>1</td>\n",
       "      <td>8-bit</td>\n",
       "      <td>0.762000</td>\n",
       "      <td>0.712000</td>\n",
       "      <td>1.151770e+05</td>\n",
       "      <td>0.818000</td>\n",
       "      <td>0.876000</td>\n",
       "      <td>0.126000</td>\n",
       "      <td>-9.180000</td>\n",
       "      <td>0.047000</td>\n",
       "      <td>133.444000</td>\n",
       "      <td>0.975000</td>\n",
       "      <td>48.000000</td>\n",
       "      <td>7</td>\n",
       "    </tr>\n",
       "    <tr>\n",
       "      <th>3</th>\n",
       "      <td>1</td>\n",
       "      <td>[]</td>\n",
       "      <td>0.651417</td>\n",
       "      <td>0.529093</td>\n",
       "      <td>2.328809e+05</td>\n",
       "      <td>0.419146</td>\n",
       "      <td>0.205309</td>\n",
       "      <td>0.218696</td>\n",
       "      <td>-12.288965</td>\n",
       "      <td>0.107872</td>\n",
       "      <td>112.857352</td>\n",
       "      <td>0.513604</td>\n",
       "      <td>20.859882</td>\n",
       "      <td>7</td>\n",
       "    </tr>\n",
       "    <tr>\n",
       "      <th>4</th>\n",
       "      <td>1</td>\n",
       "      <td>a cappella</td>\n",
       "      <td>0.676557</td>\n",
       "      <td>0.538961</td>\n",
       "      <td>1.906285e+05</td>\n",
       "      <td>0.316434</td>\n",
       "      <td>0.003003</td>\n",
       "      <td>0.172254</td>\n",
       "      <td>-12.479387</td>\n",
       "      <td>0.082851</td>\n",
       "      <td>112.110362</td>\n",
       "      <td>0.448249</td>\n",
       "      <td>45.820071</td>\n",
       "      <td>7</td>\n",
       "    </tr>\n",
       "  </tbody>\n",
       "</table>\n",
       "</div>"
      ],
      "text/plain": [
       "   mode                  genres  acousticness  danceability   duration_ms  \\\n",
       "0     1  21st century classical      0.979333      0.162883  1.602977e+05   \n",
       "1     1                   432hz      0.494780      0.299333  1.048887e+06   \n",
       "2     1                   8-bit      0.762000      0.712000  1.151770e+05   \n",
       "3     1                      []      0.651417      0.529093  2.328809e+05   \n",
       "4     1              a cappella      0.676557      0.538961  1.906285e+05   \n",
       "\n",
       "     energy  instrumentalness  liveness   loudness  speechiness       tempo  \\\n",
       "0  0.071317          0.606834  0.361600 -31.514333     0.040567   75.336500   \n",
       "1  0.450678          0.477762  0.131000 -16.854000     0.076817  120.285667   \n",
       "2  0.818000          0.876000  0.126000  -9.180000     0.047000  133.444000   \n",
       "3  0.419146          0.205309  0.218696 -12.288965     0.107872  112.857352   \n",
       "4  0.316434          0.003003  0.172254 -12.479387     0.082851  112.110362   \n",
       "\n",
       "    valence  popularity  key  \n",
       "0  0.103783   27.833333    6  \n",
       "1  0.221750   52.500000    5  \n",
       "2  0.975000   48.000000    7  \n",
       "3  0.513604   20.859882    7  \n",
       "4  0.448249   45.820071    7  "
      ]
     },
     "execution_count": 2,
     "metadata": {},
     "output_type": "execute_result"
    }
   ],
   "source": [
    "df = pd.read_csv('https://raw.githubusercontent.com/GUC-DM/W2022/main/data/music_genres.csv')\n",
    "df.head()"
   ]
  }
 ],
 "metadata": {
  "colab": {
   "name": "Clustering_Mini-Project.ipynb",
   "provenance": []
  },
  "kernelspec": {
   "display_name": "Python 3.9.13 ('base')",
   "language": "python",
   "name": "python3"
  },
  "language_info": {
   "codemirror_mode": {
    "name": "ipython",
    "version": 3
   },
   "file_extension": ".py",
   "mimetype": "text/x-python",
   "name": "python",
   "nbconvert_exporter": "python",
   "pygments_lexer": "ipython3",
   "version": "3.9.13"
  },
  "vscode": {
   "interpreter": {
    "hash": "806d670c7bb2cbe074590fc196bfaf591c17bcc1c3e5afa2a6f71dcbde559284"
   }
  }
 },
 "nbformat": 4,
 "nbformat_minor": 1
}
